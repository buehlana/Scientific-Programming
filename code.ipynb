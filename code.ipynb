{
 "cells": [
  {
   "cell_type": "markdown",
   "metadata": {},
   "source": [
    "## Libraries and settings"
   ]
  },
  {
   "cell_type": "code",
   "execution_count": 2,
   "metadata": {},
   "outputs": [
    {
     "name": "stdout",
     "output_type": "stream",
     "text": [
      "Current working directory: /workspaces/Scientific-Programming_GroupProject\n"
     ]
    }
   ],
   "source": [
    "\n",
    "# Libraries\n",
    "import os\n",
    "# os.system('pip install yfinance') to install the yfinance in the current environment\n",
    "import json\n",
    "import numpy as np\n",
    "import pandas as pd\n",
    "import yfinance as yf\n",
    "from datetime import datetime\n",
    "import matplotlib.pyplot as plt\n",
    "import sqlite3\n",
    "\n",
    "# Settings\n",
    "import warnings\n",
    "warnings.filterwarnings(\"ignore\")\n",
    "\n",
    "# Current working directory\n",
    "print(f'Current working directory: {os.getcwd()}')"
   ]
  },
  {
   "cell_type": "markdown",
   "metadata": {},
   "source": [
    "## Download qoutes (stock information) into one file"
   ]
  },
  {
   "cell_type": "code",
   "execution_count": 3,
   "metadata": {},
   "outputs": [
    {
     "name": "stdout",
     "output_type": "stream",
     "text": [
      "YF.download() has changed argument auto_adjust default to True\n"
     ]
    },
    {
     "name": "stderr",
     "output_type": "stream",
     "text": [
      "[*********************100%***********************]  1 of 1 completed\n",
      "[*********************100%***********************]  1 of 1 completed\n",
      "[*********************100%***********************]  1 of 1 completed\n",
      "[*********************100%***********************]  1 of 1 completed\n",
      "[*********************100%***********************]  1 of 1 completed\n"
     ]
    },
    {
     "name": "stdout",
     "output_type": "stream",
     "text": [
      "Price        Date       Close        High         Low        Open      Volume  \\\n",
      "Ticker                   AAPL        AAPL        AAPL        AAPL        AAPL   \n",
      "0      2024-11-01  222.420486  224.855131  219.786285  220.484744  65276700.0   \n",
      "1      2024-11-04  221.522446  222.300732  219.227509  220.504697  44944500.0   \n",
      "2      2024-11-05  222.959290  223.458192  220.654365  221.312919  28111300.0   \n",
      "3      2024-11-06  222.230896  225.573545  220.704257  222.121137  54561100.0   \n",
      "4      2024-11-07  226.980438  227.379569  224.076840  224.136706  42137700.0   \n",
      "\n",
      "Price  Symbol Close High  Low  ... Close High  Low Open Volume Close High  \\\n",
      "Ticker         MSFT MSFT MSFT  ...  META META META META   META  NFLX NFLX   \n",
      "0        AAPL   NaN  NaN  NaN  ...   NaN  NaN  NaN  NaN    NaN   NaN  NaN   \n",
      "1        AAPL   NaN  NaN  NaN  ...   NaN  NaN  NaN  NaN    NaN   NaN  NaN   \n",
      "2        AAPL   NaN  NaN  NaN  ...   NaN  NaN  NaN  NaN    NaN   NaN  NaN   \n",
      "3        AAPL   NaN  NaN  NaN  ...   NaN  NaN  NaN  NaN    NaN   NaN  NaN   \n",
      "4        AAPL   NaN  NaN  NaN  ...   NaN  NaN  NaN  NaN    NaN   NaN  NaN   \n",
      "\n",
      "Price   Low Open Volume  \n",
      "Ticker NFLX NFLX   NFLX  \n",
      "0       NaN  NaN    NaN  \n",
      "1       NaN  NaN    NaN  \n",
      "2       NaN  NaN    NaN  \n",
      "3       NaN  NaN    NaN  \n",
      "4       NaN  NaN    NaN  \n",
      "\n",
      "[5 rows x 27 columns]\n"
     ]
    }
   ],
   "source": [
    "# List of stocks (quotes)\n",
    "stocks = ['AAPL', 'MSFT', 'GOOGL', 'META', 'NFLX']\n",
    "\n",
    "# Empty list to collect data\n",
    "all_data = []\n",
    "\n",
    "# Loop through each stock and collect data\n",
    "for symbol in stocks:\n",
    "    data = yf.download(symbol, start='2024-11-01', end='2025-04-01')\n",
    "    data['Symbol'] = symbol  # Add symbol column\n",
    "    data = data.reset_index()  # Reset index to make Date a column\n",
    "    all_data.append(data)  # Append to list\n",
    "\n",
    "# Combine all dataframes\n",
    "final_df = pd.concat(all_data, ignore_index=True)\n",
    "\n",
    "# Connect to SQLite\n",
    "conn = sqlite3.connect('stocks.db')\n",
    "\n",
    "# Drop existing table to avoid conflicts\n",
    "conn.execute(\"DROP TABLE IF EXISTS stock_prices;\")\n",
    "\n",
    "# Save DataFrame to SQLite\n",
    "final_df.to_sql('stock_prices', conn, if_exists='replace', index=False)\n",
    "\n",
    " # Preview the result\n",
    "print(final_df.head())\n",
    "\n",
    "# Save the data to a CSV file NEEDED? \n",
    "final_df.to_csv('stocks_data.csv', index=False) \n",
    "\n",
    "# Connect to SQLite database (creates 'stocks.db' if it doesn't exist)\n",
    "conn = sqlite3.connect('stocks.db')\n",
    "\n",
    "# Save a pandas DataFrame to a table in SQLite\n",
    "final_df.to_sql('stock_prices', conn, if_exists='append', index=False)\n",
    "# The file 'stocks.db' is where everything is stored (binary format)\n",
    "\n",
    "# Read the data back from the SQLite database\n",
    "df = pd.read_sql_query(\"SELECT * FROM stock_prices LIMIT 10;\", conn)\n",
    "# Close the connection\n",
    "conn.close() "
   ]
  }
 ],
 "metadata": {
  "kernelspec": {
   "display_name": "Python 3",
   "language": "python",
   "name": "python3"
  },
  "language_info": {
   "codemirror_mode": {
    "name": "ipython",
    "version": 3
   },
   "file_extension": ".py",
   "mimetype": "text/x-python",
   "name": "python",
   "nbconvert_exporter": "python",
   "pygments_lexer": "ipython3",
   "version": "3.12.1"
  }
 },
 "nbformat": 4,
 "nbformat_minor": 2
}
