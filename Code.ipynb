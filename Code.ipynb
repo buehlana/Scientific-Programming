

import os
import json
import numpy as np
import pandas as pd
import yfinance as yf
from datetime import datetime
import matplotlib.pyplot as plt


import warnings
warnings.filterwarnings("ignore")


print(f'Current working directory: {os.getcwd()}')
