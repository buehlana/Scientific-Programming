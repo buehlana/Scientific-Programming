{
 "cells": [
  {
   "cell_type": "code",
   "execution_count": 2,
   "id": "dd28f175",
   "metadata": {},
   "outputs": [
    {
     "name": "stdout",
     "output_type": "stream",
     "text": [
      "Current working directory: /workspaces/Scientific-Programming_GroupProject\n"
     ]
    }
   ],
   "source": [
    "\n",
    "import os\n",
    "import json\n",
    "import numpy as np\n",
    "import pandas as pd\n",
    "import yfinance as yf\n",
    "from datetime import datetime\n",
    "import matplotlib.pyplot as plt\n",
    "import sqlite3\n",
    "\n",
    "\n",
    "\n",
    "import warnings\n",
    "warnings.filterwarnings(\"ignore\")\n",
    "\n",
    "\n",
    "print(f'Current working directory: {os.getcwd()}')\n"
   ]
  },
  {
   "cell_type": "code",
   "execution_count": null,
   "id": "b4687c22",
   "metadata": {},
   "outputs": [
    {
     "name": "stdout",
     "output_type": "stream",
     "text": [
      "YF.download() has changed argument auto_adjust default to True\n"
     ]
    },
    {
     "name": "stderr",
     "output_type": "stream",
     "text": [
      "[*********************100%***********************]  5 of 5 completed\n"
     ]
    },
    {
     "name": "stdout",
     "output_type": "stream",
     "text": [
      "Ticker            AAPL        AMZN       GOOGL        MSFT        NVDA\n",
      "Date                                                                  \n",
      "2025-01-02  243.582199  220.220001  189.212082  417.742371  138.297272\n",
      "2025-01-03  243.092728  224.190002  191.569366  422.502838  144.456711\n",
      "2025-01-06  244.730927  227.610001  196.643524  426.993835  149.416245\n",
      "2025-01-07  241.944000  222.110001  195.265121  421.524780  140.127106\n",
      "2025-01-08  242.433441  222.130005  193.726883  423.710419  140.097122\n",
      "...                ...         ...         ...         ...         ...\n",
      "2025-04-15  202.139999  179.589996  156.309998  385.730011  112.199997\n",
      "2025-04-16  194.270004  174.330002  153.330002  371.609985  104.489998\n",
      "2025-04-17  196.979996  172.610001  151.160004  367.779999  101.489998\n",
      "2025-04-21  193.160004  167.320007  147.669998  359.119995   96.910004\n",
      "2025-04-22  199.740005  173.179993  151.470001  366.820007   98.889999\n",
      "\n",
      "[75 rows x 5 columns]\n",
      "AAPL: Apple Inc.\n",
      "MSFT: Microsoft Corporation\n",
      "GOOGL: Alphabet Inc.\n",
      "AMZN: Amazon.com, Inc.\n",
      "NVDA: NVIDIA Corporation\n"
     ]
    }
   ],
   "source": [
    "\n",
    "# List of ticker symbols\n",
    "# You can modify this list to include the tickers you want to download\n",
    "tickers = ['AAPL', 'MSFT', 'GOOGL', 'AMZN', 'NVDA']\n",
    "\n",
    "# Download historical data (e.g., last 1 month)\n",
    "data = yf.download(tickers, start='2025-01-01', end='2025-04-23')\n",
    "\n",
    "data = []\n",
    "\n",
    "for symbol in tickers:\n",
    "    stock = yf.Ticker(symbol)\n",
    "    info = stock.info\n",
    "    data.append({\n",
    "        'symbol': symbol,\n",
    "        'name': info.get('longName', 'N/A'),\n",
    "        'price': info.get('currentPrice', 'N/A'),\n",
    "        'market_cap': info.get('marketCap', 'N/A'),\n",
    "       'sector': info.get('sector', 'N/A'),\n",
    "    })\n",
    "\n",
    "    df = pd.DataFrame(data)\n",
    "print(df)  \n",
    "\n",
    "\n"
   ]
  },
  {
   "cell_type": "code",
   "execution_count": 4,
   "id": "e709b46d",
   "metadata": {},
   "outputs": [
    {
     "name": "stdout",
     "output_type": "stream",
     "text": [
      "Found tech companies:\n",
      "['ACN', 'ADBE', 'AMD', 'AKAM', 'APH', 'ADI', 'ANSS', 'AAPL', 'AMAT', 'ANET', 'ADSK', 'AVGO', 'CDNS', 'CDW', 'CSCO', 'CTSH', 'GLW', 'CRWD', 'DELL', 'ENPH', 'EPAM', 'FFIV', 'FICO', 'FSLR', 'FTNT', 'IT', 'GEN', 'GDDY', 'HPE', 'HPQ', 'IBM', 'INTC', 'INTU', 'JBL', 'JNPR', 'KEYS', 'KLAC', 'LRCX', 'MCHP', 'MU', 'MSFT', 'MPWR', 'MSI', 'NTAP', 'NVDA', 'NXPI', 'ON', 'ORCL', 'PLTR', 'PANW', 'PTC', 'QCOM', 'ROP', 'CRM', 'STX', 'NOW', 'SWKS', 'SMCI', 'SNPS', 'TEL', 'TDY', 'TER', 'TXN', 'TRMB', 'TYL', 'VRSN', 'WDC', 'WDAY', 'ZBRA']\n",
      "Found health companies:\n",
      "['ABT', 'ABBV', 'A', 'ALGN', 'AMGN', 'BAX', 'BDX', 'TECH', 'BIIB', 'BSX', 'BMY', 'CAH', 'COR', 'CNC', 'CRL', 'CI', 'COO', 'CVS', 'DHR', 'DVA', 'DXCM', 'EW', 'ELV', 'GEHC', 'GILD', 'HCA', 'HSIC', 'HOLX', 'HUM', 'IDXX', 'INCY', 'PODD', 'ISRG', 'IQV', 'JNJ', 'LH', 'LLY', 'MCK', 'MDT', 'MRK', 'MTD', 'MRNA', 'MOH', 'PFE', 'DGX', 'REGN', 'RMD', 'RVTY', 'SOLV', 'STE', 'SYK', 'TMO', 'UNH', 'UHS', 'VRTX', 'VTRS', 'WAT', 'WST', 'ZBH', 'ZTS']\n",
      "Found consumer discretionary companies:\n",
      "['ABNB', 'AMZN', 'APTV', 'AZO', 'BBY', 'BKNG', 'CZR', 'KMX', 'CCL', 'CMG', 'DRI', 'DECK', 'DPZ', 'DASH', 'DHI', 'EBAY', 'EXPE', 'F', 'GRMN', 'GM', 'GPC', 'HAS', 'HLT', 'HD', 'LVS', 'LEN', 'LKQ', 'LOW', 'LULU', 'MAR', 'MCD', 'MGM', 'MHK', 'NKE', 'NCLH', 'NVR', 'ORLY', 'POOL', 'PHM', 'RL', 'ROST', 'RCL', 'SBUX', 'TPR', 'TSLA', 'TJX', 'TSCO', 'ULTA', 'WSM', 'WYNN', 'YUM']\n",
      "Found consumer staples companies:\n",
      "['MO', 'ADM', 'BF.B', 'BG', 'CPB', 'CHD', 'CLX', 'KO', 'CL', 'CAG', 'STZ', 'COST', 'DG', 'DLTR', 'EL', 'GIS', 'HSY', 'HRL', 'K', 'KVUE', 'KDP', 'KMB', 'KHC', 'KR', 'LW', 'MKC', 'TAP', 'MDLZ', 'MNST', 'PEP', 'PM', 'PG', 'SJM', 'SYY', 'TGT', 'TSN', 'WBA', 'WMT']\n",
      "Found financials companies:\n",
      "['AFL', 'ALL', 'AXP', 'AIG', 'AMP', 'AON', 'APO', 'ACGL', 'AJG', 'AIZ', 'BAC', 'BRK.B', 'BLK', 'BX', 'BK', 'BRO', 'COF', 'CBOE', 'SCHW', 'CB', 'CINF', 'C', 'CFG', 'CME', 'CPAY', 'DFS', 'ERIE', 'EG', 'FDS', 'FIS', 'FITB', 'FI', 'BEN', 'GPN', 'GL', 'GS', 'HIG', 'HBAN', 'ICE', 'IVZ', 'JKHY', 'JPM', 'KEY', 'KKR', 'L', 'MTB', 'MKTX', 'MMC', 'MA', 'MET', 'MCO', 'MS', 'MSCI', 'NDAQ', 'NTRS', 'PYPL', 'PNC', 'PFG', 'PGR', 'PRU', 'RJF', 'RF', 'SPGI', 'STT', 'SYF', 'TROW', 'TRV', 'TFC', 'USB', 'V', 'WRB', 'WFC', 'WTW']\n"
     ]
    }
   ],
   "source": [
    "\n",
    "\n",
    "# Get the S&P 500 company list from Wikipedia\n",
    "url = 'https://en.wikipedia.org/wiki/List_of_S%26P_500_companies'\n",
    "table = pd.read_html(url)[0]\n",
    "\n",
    "# Filter for Technology sector\n",
    "tech_companies = table[table['GICS Sector'] == 'Information Technology']\n",
    "# Filter for health sector\n",
    "health_companies = table[table['GICS Sector'] == 'Health Care']\n",
    "# Filter for consumer discretionary sector\n",
    "consumer_discretionary_companies = table[table['GICS Sector'] == 'Consumer Discretionary']\n",
    "# Filter for consumer staples sector\n",
    "consumer_staples_companies = table[table['GICS Sector'] == 'Consumer Staples']\n",
    "# Filter for financials sector\n",
    "financials_companies = table[table['GICS Sector'] == 'Financials']\n",
    "\n",
    "\n",
    "# Get tickers\n",
    "tech_tickers = tech_companies['Symbol'].tolist() \n",
    "health_tickers = health_companies['Symbol'].tolist()\n",
    "consumer_discretionary_tickers = consumer_discretionary_companies['Symbol'].tolist()\n",
    "consumer_staples_tickers = consumer_staples_companies['Symbol'].tolist()\n",
    "financials_tickers = financials_companies['Symbol'].tolist()\n",
    "\n",
    "print(\"Found tech companies:\")\n",
    "print(tech_tickers)\n",
    "\n",
    "print(\"Found health companies:\")\n",
    "print(health_tickers)\n",
    "\n",
    "print(\"Found consumer discretionary companies:\")\n",
    "print(consumer_discretionary_tickers)\n",
    "\n",
    "print(\"Found consumer staples companies:\")\n",
    "print(consumer_staples_tickers)\n",
    "\n",
    "print(\"Found financials companies:\")\n",
    "print(financials_tickers)\n"
   ]
  },
  {
   "cell_type": "code",
   "execution_count": null,
   "id": "6e0d875c",
   "metadata": {},
   "outputs": [],
   "source": [
    "# initialize SQLite database for Tech sotcks\n",
    "conn = sqlite3.connect(\"tech_stocks.db\")  # Creates tech_stocks.db file\n",
    "cursor = conn.cursor()"
   ]
  },
  {
   "cell_type": "code",
   "execution_count": null,
   "id": "e7b48ae0",
   "metadata": {},
   "outputs": [
    {
     "name": "stdout",
     "output_type": "stream",
     "text": [
      "-----------------------------------\n",
      "POSIX\n",
      "Linux | 6.8.0-1026-azure\n",
      "Datetime: 2025-04-23 18:31:22\n",
      "Python Version: 3.12.1\n",
      "-----------------------------------\n"
     ]
    }
   ],
   "source": [
    "import os\n",
    "import platform\n",
    "import socket\n",
    "from platform import python_version\n",
    "from datetime import datetime\n",
    "\n",
    "print('-----------------------------------')\n",
    "print(os.name.upper())\n",
    "print(platform.system(), '|', platform.release())\n",
    "print('Datetime:', datetime.now().strftime(\"%Y-%m-%d %H:%M:%S\"))\n",
    "print('Python Version:', python_version())\n",
    "print('-----------------------------------')"
   ]
  }
 ],
 "metadata": {
  "kernelspec": {
   "display_name": "Python 3",
   "language": "python",
   "name": "python3"
  },
  "language_info": {
   "codemirror_mode": {
    "name": "ipython",
    "version": 3
   },
   "file_extension": ".py",
   "mimetype": "text/x-python",
   "name": "python",
   "nbconvert_exporter": "python",
   "pygments_lexer": "ipython3",
   "version": "3.12.1"
  }
 },
 "nbformat": 4,
 "nbformat_minor": 5
}
